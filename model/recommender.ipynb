{
 "cells": [
  {
   "cell_type": "code",
   "execution_count": 1,
   "outputs": [],
   "source": [
    "import numpy as np\n",
    "import tensorflow as tf\n",
    "import tensorflow_datasets as tfds\n",
    "import tensorflow_recommenders as tfrs\n",
    "from typing import Dict, Text\n",
    "from tensorflow_recommenders.metrics import FactorizedTopK\n",
    "from tensorflow_recommenders.tasks import Retrieval"
   ],
   "metadata": {
    "collapsed": false,
    "pycharm": {
     "name": "#%%\n"
    }
   }
  },
  {
   "cell_type": "code",
   "execution_count": 2,
   "outputs": [],
   "source": [
    "ratings100: tf.data.Dataset = tfds.load('movie_lens/100k-ratings', data_dir='../dataset', split=\"train\")\n",
    "movies100: tf.data.Dataset = tfds.load('movie_lens/100k-movies', data_dir='../dataset', split=\"train\")"
   ],
   "metadata": {
    "collapsed": false,
    "pycharm": {
     "name": "#%%\n"
    }
   }
  },
  {
   "cell_type": "code",
   "execution_count": 3,
   "outputs": [],
   "source": [
    "ratings25m: tf.data.Dataset = tfds.load('movie_lens/25m-ratings', data_dir='../dataset', split=\"train\")\n",
    "movies25m: tf.data.Dataset = tfds.load('movie_lens/25m-movies', data_dir='../dataset', split=\"train\")"
   ],
   "metadata": {
    "collapsed": false,
    "pycharm": {
     "name": "#%%\n"
    }
   }
  },
  {
   "cell_type": "code",
   "execution_count": 4,
   "outputs": [],
   "source": [
    "X100 = ratings100.as_numpy_iterator()\n",
    "X25m = ratings25m.as_numpy_iterator()"
   ],
   "metadata": {
    "collapsed": false,
    "pycharm": {
     "name": "#%%\n"
    }
   }
  },
  {
   "cell_type": "code",
   "execution_count": 5,
   "outputs": [
    {
     "data": {
      "text/plain": "100000"
     },
     "execution_count": 5,
     "metadata": {},
     "output_type": "execute_result"
    }
   ],
   "source": [
    "len(ratings100)"
   ],
   "metadata": {
    "collapsed": false,
    "pycharm": {
     "name": "#%%\n"
    }
   }
  },
  {
   "cell_type": "code",
   "execution_count": 6,
   "outputs": [
    {
     "data": {
      "text/plain": "943"
     },
     "execution_count": 6,
     "metadata": {},
     "output_type": "execute_result"
    }
   ],
   "source": [
    "len(np.unique(\n",
    "    list(ratings100.map(lambda x: x['user_id']).as_numpy_iterator())\n",
    "))"
   ],
   "metadata": {
    "collapsed": false,
    "pycharm": {
     "name": "#%%\n"
    }
   }
  },
  {
   "cell_type": "code",
   "execution_count": 7,
   "outputs": [
    {
     "data": {
      "text/plain": "1682"
     },
     "execution_count": 7,
     "metadata": {},
     "output_type": "execute_result"
    }
   ],
   "source": [
    "len(np.unique(\n",
    "    list(ratings100.map(lambda x: x['movie_id']).as_numpy_iterator())\n",
    "))"
   ],
   "metadata": {
    "collapsed": false,
    "pycharm": {
     "name": "#%%\n"
    }
   }
  },
  {
   "cell_type": "code",
   "execution_count": 8,
   "outputs": [
    {
     "data": {
      "text/plain": "{'bucketized_user_age': 45.0,\n 'movie_genres': array([7], dtype=int64),\n 'movie_id': b'357',\n 'movie_title': b\"One Flew Over the Cuckoo's Nest (1975)\",\n 'raw_user_age': 46.0,\n 'timestamp': 879024327,\n 'user_gender': True,\n 'user_id': b'138',\n 'user_occupation_label': 4,\n 'user_occupation_text': b'doctor',\n 'user_rating': 4.0,\n 'user_zip_code': b'53211'}"
     },
     "execution_count": 8,
     "metadata": {},
     "output_type": "execute_result"
    }
   ],
   "source": [
    "next(X100)"
   ],
   "metadata": {
    "collapsed": false,
    "pycharm": {
     "name": "#%%\n"
    }
   }
  },
  {
   "cell_type": "code",
   "execution_count": 9,
   "outputs": [
    {
     "data": {
      "text/plain": "{'movie_genres': array([4, 5], dtype=int64),\n 'movie_id': b'7367',\n 'movie_title': b'Ladykillers, The (2004)',\n 'timestamp': 1198090049,\n 'user_id': b'58198',\n 'user_rating': 3.5}"
     },
     "execution_count": 9,
     "metadata": {},
     "output_type": "execute_result"
    }
   ],
   "source": [
    "next(X25m)"
   ],
   "metadata": {
    "collapsed": false,
    "pycharm": {
     "name": "#%%\n"
    }
   }
  },
  {
   "cell_type": "code",
   "execution_count": 10,
   "outputs": [],
   "source": [
    "class FlickPickModel(tf.keras.Model):\n",
    "\n",
    "    def __init__(self,\n",
    "            user_layer: tf.keras.layers.Layer,\n",
    "            rating_layer: tf.keras.layers.Layer,\n",
    "            retrieval_layer: tf.keras.layers.Layer):\n",
    "        super(FlickPickModel, self).__init__()\n",
    "\n",
    "        self.user_layer = user_layer\n",
    "        self.rating_layer = rating_layer\n",
    "        self.retrieval_layer = retrieval_layer\n",
    "\n",
    "    def train_step(self, data):\n",
    "        super(FlickPickModel, self).train_step(data)\n",
    "\n",
    "    def test_step(self, data):\n",
    "        super(FlickPickModel, self).train_step(data)\n",
    "\n"
   ],
   "metadata": {
    "collapsed": false,
    "pycharm": {
     "name": "#%%\n"
    }
   }
  },
  {
   "cell_type": "code",
   "execution_count": 11,
   "outputs": [],
   "source": [
    "def construct_model(movies: tf.data.Dataset) -> tfrs.Model:\n",
    "    user_model = tf.keras.layers.Embedding(input_dim=2000, output_dim=64)\n",
    "    item_model = tf.keras.layers.Embedding(input_dim=2000, output_dim=64)\n",
    "    retrieval = Retrieval(\n",
    "        metrics=FactorizedTopK(\n",
    "            candidates=movies.batch(128).map(item_model)\n",
    "        )\n",
    "    )\n",
    "    model = FlickPickModel(user_model, item_model, retrieval)\n",
    "    model.compile(optimizer=tf.keras.optimizers.Adam(0.025))\n",
    "\n",
    "    return model\n"
   ],
   "metadata": {
    "collapsed": false,
    "pycharm": {
     "name": "#%%\n"
    }
   }
  }
 ],
 "metadata": {
  "kernelspec": {
   "name": "seniorproject",
   "language": "python",
   "display_name": "Python (seniorproject)"
  },
  "language_info": {
   "codemirror_mode": {
    "name": "ipython",
    "version": 2
   },
   "file_extension": ".py",
   "mimetype": "text/x-python",
   "name": "python",
   "nbconvert_exporter": "python",
   "pygments_lexer": "ipython2",
   "version": "2.7.6"
  }
 },
 "nbformat": 4,
 "nbformat_minor": 0
}